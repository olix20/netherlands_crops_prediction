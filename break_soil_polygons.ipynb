{
 "cells": [
  {
   "cell_type": "code",
   "execution_count": 95,
   "metadata": {
    "collapsed": true
   },
   "outputs": [],
   "source": [
    "from shapely.geometry import box, Polygon, MultiPolygon, GeometryCollection\n",
    "\n",
    "import pandas as pd\n",
    "import numpy as np \n",
    "import matplotlib.pyplot as plt\n",
    "\n",
    "import psycopg2\n",
    "import seaborn as sns\n",
    "from sklearn.model_selection import train_test_split\n",
    "\n",
    "from shapely.wkt import loads as wkt_loads\n",
    "from matplotlib.collections import LineCollection\n",
    "import matplotlib.cm as cm\n",
    "import geopandas as gp\n",
    "\n",
    "%matplotlib inline \n",
    "\n",
    "try:\n",
    "    conn = psycopg2.connect(\"dbname='crops' user='postgres' host='localhost' port='5433'\")\n",
    "    cur = conn.cursor()\n",
    "except:\n",
    "    print \"Unable to connect to the database\"\n"
   ]
  },
  {
   "cell_type": "code",
   "execution_count": 66,
   "metadata": {
    "collapsed": false
   },
   "outputs": [
    {
     "data": {
      "text/html": [
       "<div>\n",
       "<table border=\"1\" class=\"dataframe\">\n",
       "  <thead>\n",
       "    <tr style=\"text-align: right;\">\n",
       "      <th></th>\n",
       "      <th>geom</th>\n",
       "      <th>gronds</th>\n",
       "      <th>omschrijvi</th>\n",
       "    </tr>\n",
       "  </thead>\n",
       "  <tbody>\n",
       "    <tr>\n",
       "      <th>0</th>\n",
       "      <td>(POLYGON ((128228.0467999987 545672.5623999983...</td>\n",
       "      <td>40</td>\n",
       "      <td>Zware zavel</td>\n",
       "    </tr>\n",
       "    <tr>\n",
       "      <th>1</th>\n",
       "      <td>(POLYGON ((199736.1405999996 549441.0623999983...</td>\n",
       "      <td>21</td>\n",
       "      <td>Moerig op zand</td>\n",
       "    </tr>\n",
       "    <tr>\n",
       "      <th>2</th>\n",
       "      <td>(POLYGON ((183502.4217999987 549952.5623999983...</td>\n",
       "      <td>21</td>\n",
       "      <td>Moerig op zand</td>\n",
       "    </tr>\n",
       "    <tr>\n",
       "      <th>3</th>\n",
       "      <td>(POLYGON ((205858.7655999996 549375.75, 205859...</td>\n",
       "      <td>70</td>\n",
       "      <td>Leem</td>\n",
       "    </tr>\n",
       "    <tr>\n",
       "      <th>4</th>\n",
       "      <td>(POLYGON ((241182 474442, 241176 474397, 24116...</td>\n",
       "      <td>20</td>\n",
       "      <td>Zand</td>\n",
       "    </tr>\n",
       "  </tbody>\n",
       "</table>\n",
       "</div>"
      ],
      "text/plain": [
       "                                                geom  gronds      omschrijvi\n",
       "0  (POLYGON ((128228.0467999987 545672.5623999983...      40     Zware zavel\n",
       "1  (POLYGON ((199736.1405999996 549441.0623999983...      21  Moerig op zand\n",
       "2  (POLYGON ((183502.4217999987 549952.5623999983...      21  Moerig op zand\n",
       "3  (POLYGON ((205858.7655999996 549375.75, 205859...      70            Leem\n",
       "4  (POLYGON ((241182 474442, 241176 474397, 24116...      20            Zand"
      ]
     },
     "execution_count": 66,
     "metadata": {},
     "output_type": "execute_result"
    }
   ],
   "source": [
    "\n",
    "\n",
    "soilDf = gp.read_postgis('select geom_fixed as geom, gronds, omschrijvi from \"soil_map\"', conn)\n",
    "soilDf.head()        "
   ]
  },
  {
   "cell_type": "code",
   "execution_count": 4,
   "metadata": {
    "collapsed": true
   },
   "outputs": [],
   "source": [
    "\n",
    "def katana(geometry, threshold, count=0):\n",
    "    \"\"\"Split a Polygon into two parts across it's shortest dimension\"\"\"\n",
    "    bounds = geometry.bounds\n",
    "    width = bounds[2] - bounds[0]\n",
    "    height = bounds[3] - bounds[1]\n",
    "    if max(width, height) <= threshold or count == 250:\n",
    "        # either the polygon is smaller than the threshold, or the maximum\n",
    "        # number of recursions has been reached\n",
    "        return [geometry]\n",
    "    if height >= width:\n",
    "        # split left to right\n",
    "        a = box(bounds[0], bounds[1], bounds[2], bounds[1]+height/2)\n",
    "        b = box(bounds[0], bounds[1]+height/2, bounds[2], bounds[3])\n",
    "    else:\n",
    "        # split top to bottom\n",
    "        a = box(bounds[0], bounds[1], bounds[0]+width/2, bounds[3])\n",
    "        b = box(bounds[0]+width/2, bounds[1], bounds[2], bounds[3])\n",
    "    result = []\n",
    "    for d in (a, b,):\n",
    "        c = geometry.intersection(d)\n",
    "        if not isinstance(c, GeometryCollection):\n",
    "            c = [c]\n",
    "        for e in c:\n",
    "            if isinstance(e, (Polygon, MultiPolygon)):\n",
    "                result.extend(katana(e, threshold, count+1))\n",
    "    if count > 0:\n",
    "        return result\n",
    "    # convert multipart into singlepart\n",
    "    final_result = []\n",
    "    for g in result:\n",
    "        if isinstance(g, MultiPolygon):\n",
    "            final_result.extend(g)\n",
    "        else:\n",
    "            final_result.append(g)\n",
    "    return final_result\n"
   ]
  },
  {
   "cell_type": "code",
   "execution_count": 31,
   "metadata": {
    "collapsed": false
   },
   "outputs": [],
   "source": [
    "testgeom = soilDf.ix[0,'geom']\n",
    "splits = katana(testgeom,1000)\n"
   ]
  },
  {
   "cell_type": "code",
   "execution_count": 29,
   "metadata": {
    "collapsed": false
   },
   "outputs": [
    {
     "data": {
      "text/plain": [
       "6290.664962727452"
      ]
     },
     "execution_count": 29,
     "metadata": {},
     "output_type": "execute_result"
    }
   ],
   "source": [
    "testgeom.length"
   ]
  },
  {
   "cell_type": "code",
   "execution_count": 32,
   "metadata": {
    "collapsed": false
   },
   "outputs": [
    {
     "data": {
      "text/plain": [
       "2832.989323593245"
      ]
     },
     "execution_count": 32,
     "metadata": {},
     "output_type": "execute_result"
    }
   ],
   "source": [
    "splits[0].length"
   ]
  },
  {
   "cell_type": "code",
   "execution_count": 33,
   "metadata": {
    "collapsed": true
   },
   "outputs": [],
   "source": [
    "refDf = gp.read_postgis('select global_geo_id, geom, shape_area, centroid_x, centroid_y, gws_gewas as c2009 from \"2009\"', conn)\n"
   ]
  },
  {
   "cell_type": "code",
   "execution_count": 41,
   "metadata": {
    "collapsed": false
   },
   "outputs": [
    {
     "name": "stdout",
     "output_type": "stream",
     "text": [
      "114.751613261\n",
      "345.873706508\n",
      "637.764742038\n",
      "337.666032478\n",
      "238.062555207\n",
      "1869.83229449\n",
      "681.973325332\n",
      "326.592318946\n",
      "168.348529986\n",
      "1357.69427556\n"
     ]
    }
   ],
   "source": [
    "for i in xrange(5,15):\n",
    "    print refDf.ix[i,'geom'].length"
   ]
  },
  {
   "cell_type": "code",
   "execution_count": 42,
   "metadata": {
    "collapsed": false
   },
   "outputs": [
    {
     "name": "stdout",
     "output_type": "stream",
     "text": [
      "813.137205456\n",
      "4404.98141104\n",
      "22268.6136193\n",
      "5507.79563551\n",
      "868.225693094\n",
      "10312.4408567\n",
      "20920.564348\n",
      "6437.08520496\n",
      "579.325663402\n",
      "48451.7520719\n"
     ]
    }
   ],
   "source": [
    "for i in xrange(5,15):\n",
    "    print refDf.ix[i,'geom'].area"
   ]
  },
  {
   "cell_type": "code",
   "execution_count": 47,
   "metadata": {
    "collapsed": false
   },
   "outputs": [],
   "source": [
    "refDf['splits'] = refDf.geom.apply(lambda x : len(katana(x,1000)))"
   ]
  },
  {
   "cell_type": "code",
   "execution_count": 60,
   "metadata": {
    "collapsed": false
   },
   "outputs": [
    {
     "data": {
      "text/plain": [
       "1     816098\n",
       "2       2611\n",
       "3        186\n",
       "4        145\n",
       "5         32\n",
       "6         18\n",
       "8         15\n",
       "7          6\n",
       "10         4\n",
       "15         3\n",
       "12         3\n",
       "13         3\n",
       "14         3\n",
       "16         3\n",
       "11         2\n",
       "9          2\n",
       "62         1\n",
       "17         1\n",
       "18         1\n",
       "19         1\n",
       "20         1\n",
       "26         1\n",
       "30         1\n",
       "32         1\n",
       "46         1\n",
       "57         1\n",
       "58         1\n",
       "74         1\n",
       "Name: splits, dtype: int64"
      ]
     },
     "execution_count": 60,
     "metadata": {},
     "output_type": "execute_result"
    }
   ],
   "source": [
    "refDf['splits'].value_counts()"
   ]
  },
  {
   "cell_type": "markdown",
   "metadata": {},
   "source": [
    "1000 seems to be a good threshold value "
   ]
  },
  {
   "cell_type": "code",
   "execution_count": 102,
   "metadata": {
    "collapsed": false
   },
   "outputs": [
    {
     "name": "stdout",
     "output_type": "stream",
     "text": [
      "CPU times: user 4 µs, sys: 1e+03 ns, total: 5 µs\n",
      "Wall time: 36 µs\n"
     ]
    }
   ],
   "source": [
    "%time\n",
    "\n",
    "for index, parent in soilDf.iterrows():\n",
    "    splits = katana(parent.geom,1000)\n",
    "    \n",
    "    for child in splits:\n",
    "        \n",
    "        cur.execute('INSERT INTO soil_map_dump (omschrijvi, gronds, geom) VALUES (\\''+\\\n",
    "                    str(parent.omschrijvi)+\\\n",
    "                    '\\','+str(parent.gronds)+','+ 'ST_GeomFromText(\\''+child.wkt+'\\', 28992))')\n",
    "                    \n",
    "                    \n",
    "#         cur.execute('INSERT INTO soil_map_dump (omschrijvi, gronds, geom) VALUES (%s, %s, %s)', \\\n",
    "#                     ( parent.omschrijvi, parent.gronds, child))\n",
    "# #                      \"ST_GeomFromText(\"+child.wkt+\", 28992)\"))\n",
    "\n",
    "#         print mini_parcel\n",
    "        \n",
    "    \n",
    "\n",
    "conn.commit()    \n",
    "    "
   ]
  }
 ],
 "metadata": {
  "kernelspec": {
   "display_name": "Python [conda env:test_fiona5]",
   "language": "python",
   "name": "conda-env-test_fiona5-py"
  },
  "language_info": {
   "codemirror_mode": {
    "name": "ipython",
    "version": 2
   },
   "file_extension": ".py",
   "mimetype": "text/x-python",
   "name": "python",
   "nbconvert_exporter": "python",
   "pygments_lexer": "ipython2",
   "version": "2.7.12"
  }
 },
 "nbformat": 4,
 "nbformat_minor": 2
}
