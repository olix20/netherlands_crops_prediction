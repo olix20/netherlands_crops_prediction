{
 "cells": [
  {
   "cell_type": "code",
   "execution_count": 3,
   "metadata": {
    "collapsed": true,
    "deletable": true,
    "editable": true
   },
   "outputs": [],
   "source": [
    "#from mpl_toolkits.basemap import Basemap\n",
    "\n",
    "import pandas as pd\n",
    "import numpy as np \n",
    "import matplotlib.pyplot as plt\n",
    "\n",
    "import psycopg2\n",
    "import seaborn as sns\n",
    "from sklearn.model_selection import train_test_split\n",
    "\n",
    "# from shapely.wkt import loads as wkt_loads\n",
    "from matplotlib.collections import LineCollection\n",
    "import matplotlib.cm as cm\n",
    "# import geopandas as gp\n",
    "\n",
    "# import h2o\n",
    "# from h2o.estimators.gbm import H2OGradientBoostingEstimator\n",
    "%matplotlib inline \n",
    "\n"
   ]
  },
  {
   "cell_type": "code",
   "execution_count": 42,
   "metadata": {
    "collapsed": false,
    "deletable": true,
    "editable": true
   },
   "outputs": [],
   "source": [
    "try:\n",
    "    conn = psycopg2.connect(\"dbname='crops' user='postgres' host='localhost' port='5433'\")\n",
    "    cur = conn.cursor()\n",
    "except:\n",
    "    print \"Unable to connect to the database\""
   ]
  },
  {
   "cell_type": "markdown",
   "metadata": {
    "deletable": true,
    "editable": true
   },
   "source": [
    "### EDA"
   ]
  },
  {
   "cell_type": "code",
   "execution_count": 5,
   "metadata": {
    "collapsed": false,
    "deletable": true,
    "editable": true
   },
   "outputs": [],
   "source": [
    "def clean_values(x):\n",
    "    if type(x) != str:\n",
    "        return x\n",
    "    \n",
    "    x = x.lower()\n",
    "    \n",
    "    if \"aardappel\" in x:\n",
    "        return \"potato\" \n",
    "    \n",
    "    \n",
    "    elif any(s in x for s in [\"maïs\" ,\"mais\"]):\n",
    "        return \"corn\"\n",
    "\n",
    "    elif any(s in x for s in ['gerst','gierst','tarwe','rogge','haver',\\\n",
    "                              'triticale','graan','granen','spelt','boekwei']):\n",
    "        return \"grain\"    \n",
    "\n",
    "    elif any(s in x for s in [\"zaad\" ,\"zade\"]):\n",
    "        return \"seed\"    \n",
    "        \n",
    "    \n",
    "    elif \"gras\" in  x:\n",
    "        return \"grass\"\n",
    "    \n",
    "    \n",
    "    elif \"ui\" in x:\n",
    "        return \"onion\"\n",
    "    \n",
    "    \n",
    "\n",
    "    \n",
    "    elif any(s in x for s in ['bone','erwt','kapucijne']):\n",
    "        return \"beans\"\n",
    "   \n",
    "    \n",
    "    elif any(s in x for s in ['boom','bomen','note','fruit','vrucht',\\\n",
    "                              'appel','peren','kerst','kers','hout']):\n",
    "        return \"tree\"\n",
    "    \n",
    "    elif any(s in x for s in ['bloem','klaver','koolzaad','raapzaad','tulp',\\\n",
    "                              'luzerne','tagete','cichorei','lupinen','sierconiferen'\\\n",
    "                              ,'buxus','sierheester','ericaceae','azalea','snijgroen',\n",
    "                             'facelia','hennep','vlas','vezel','wikke','vaste planten']):\n",
    "        return \"flower\"\n",
    "    \n",
    "    elif any(s in x for s in ['groenten','peen','wortel','prei','witlof','kool',\\\n",
    "                              'asperges','rabarber','sla','knolselderij','biet',\\\n",
    "                             'pompoen','spinazie','broccoli',\\\n",
    "                             'bladrammenas','radijs','peulen','mosterd',\\\n",
    "                             'schorseneren','andijvie','knolvenkel','courgette','pastinaak',\n",
    "                             'valeriaan','knoflook','peterselie','paksoi',\\\n",
    "                              'bes','aardbei','frambo','selder','bram','braam',\\\n",
    "                             'komkommer','bladgewas']):\n",
    "        return \"veggies\"\n",
    "    \n",
    "\n",
    "\n",
    "    elif any(s in x for s in ['fauna','natuur','bos','dummy','onbeteelde','sloot'\\\n",
    "                              ,'heide','onbekend','gegeven','open grond']):\n",
    "        return \"waste\"\n",
    "    \n",
    "    else: return 'others'\n",
    "    \n",
    "    \n",
    "#recursively join data with previous years\n",
    "def get_backward_join_of_parcels(year,limit=2009,reference_year=False):\n",
    "    \n",
    "    #as id'+ str(year) + '\n",
    "    if reference_year:\n",
    "        q = 'select gid, cell_id, soil, next_year_parcel_fk as fk, gws_gewas as c'+ str(year) + ' from \"' + str(year) + '\"'\n",
    "    else: \n",
    "        q = 'select gid , next_year_parcel_fk  as fk, gws_gewas as c'+ str(year) + ' from \"' + str(year) + '\"'\n",
    "        \n",
    "        \n",
    "        \n",
    "    df =  pd.read_sql_query(q,conn)\n",
    "    \n",
    "    #clean crop values without messing other columns\n",
    "    if reference_year : \n",
    "        tempcols = df[['soil',\"cell_id\"]]\n",
    "        df = df.drop(['soil',\"cell_id\"],axis=1).applymap(clean_values)\n",
    "        df.insert(0,\"cell_id\",tempcols.cell_id )\n",
    "        df.insert(0,\"soil\",tempcols.soil )\n",
    "\n",
    "    else:\n",
    "        df = df.applymap(clean_values)\n",
    "    #end cleaning\n",
    "    \n",
    "    \n",
    "    \n",
    "        \n",
    "    if year > limit:\n",
    "        nextdf = get_backward_join_of_parcels(year-1,limit)\n",
    "        nextdf = nextdf.drop('gid',axis=1)\n",
    "        merged = df.merge(nextdf,how=\"left\",left_on = 'gid', right_on = 'fk')\n",
    "        merged.drop('fk_y',axis=1, inplace=True)\n",
    "        merged.rename(columns={'fk_x': 'fk'}, inplace=True)\n",
    "        \n",
    "            \n",
    "        \n",
    "        return merged\n",
    "    \n",
    "    else: #edge case, end recursion\n",
    "        return df\n",
    "\n",
    "# df15 = get_backward_join_of_parcels(2015)\n",
    "\n",
    "\n"
   ]
  },
  {
   "cell_type": "code",
   "execution_count": 7,
   "metadata": {
    "collapsed": false,
    "deletable": true,
    "editable": true
   },
   "outputs": [],
   "source": [
    "df10 = get_backward_join_of_parcels(2010,reference_year=True)\n"
   ]
  },
  {
   "cell_type": "code",
   "execution_count": 38,
   "metadata": {
    "collapsed": false,
    "deletable": true,
    "editable": true
   },
   "outputs": [],
   "source": [
    "all_years_df = pd.DataFrame()\n",
    "for year in range(2009,2017):\n",
    "    solodf = get_backward_join_of_parcels(year,year)\n",
    "    solodf = solodf.fillna('others')\n",
    "    all_years_df.insert(0,str(year),solodf['c'+str(year)].value_counts())"
   ]
  },
  {
   "cell_type": "code",
   "execution_count": 107,
   "metadata": {
    "collapsed": false,
    "deletable": true,
    "editable": true
   },
   "outputs": [
    {
     "data": {
      "text/plain": [
       "grass      495571.0\n",
       "corn       100981.0\n",
       "grain       44943.0\n",
       "potato      31760.0\n",
       "onion       31250.0\n",
       "waste       20144.0\n",
       "seed        20152.0\n",
       "tree        14609.0\n",
       "flower      12127.0\n",
       "others        505.0\n",
       "beans         823.0\n",
       "veggies         NaN\n",
       "Name: 2012, dtype: float64"
      ]
     },
     "execution_count": 107,
     "metadata": {},
     "output_type": "execute_result"
    }
   ],
   "source": [
    "all_years_df['2012']"
   ]
  },
  {
   "cell_type": "code",
   "execution_count": 111,
   "metadata": {
    "collapsed": false,
    "deletable": true,
    "editable": true,
    "scrolled": true
   },
   "outputs": [
    {
     "data": {
      "text/plain": [
       "<matplotlib.legend.Legend at 0x125576e90>"
      ]
     },
     "execution_count": 111,
     "metadata": {},
     "output_type": "execute_result"
    },
    {
     "data": {
      "image/png": "[encoded data removed]",
      "text/plain": [
       "<matplotlib.figure.Figure at 0x11c9bfc10>"
      ]
     },
     "metadata": {},
     "output_type": "display_data"
    }
   ],
   "source": [
    "fig, ax = plt.subplots(figsize=(16,8))\n",
    "\n",
    "melteddf = pd.melt(all_years_df.reset_index(),id_vars=[\"index\"], \n",
    "                  var_name=\"Date\", value_name=\"Value\")\n",
    "\n",
    "melteddf = melteddf.sort_values(\"Date\", axis=0)\n",
    "melteddf = melteddf[melteddf[\"index\"]\\\n",
    "                    .apply((lambda x: False if any(s in x for s in [\"tree\",\"waste\",\"grass\",\"others\"]) else True))]\n",
    "\n",
    "for label, df in melteddf.groupby('index'):\n",
    "    df.plot(kind=\"line\",x=\"Date\",y=\"Value\", ax=ax, label=label)\n",
    "# bp = p_df.groupby('class').plot(kind='kde', ax=ax)\n",
    "\n",
    "plt.legend()    \n",
    "# # bp = melteddf.groupby('index').plot(kind='line',x=\"Date\", ax=ax,by='index')"
   ]
  },
  {
   "cell_type": "code",
   "execution_count": 127,
   "metadata": {
    "collapsed": false
   },
   "outputs": [
    {
     "data": {
      "text/html": [
       "<div>\n",
       "<table border=\"1\" class=\"dataframe\">\n",
       "  <thead>\n",
       "    <tr style=\"text-align: right;\">\n",
       "      <th></th>\n",
       "      <th>index</th>\n",
       "      <th>Date</th>\n",
       "      <th>Value</th>\n",
       "    </tr>\n",
       "  </thead>\n",
       "  <tbody>\n",
       "    <tr>\n",
       "      <th>87</th>\n",
       "      <td>potato</td>\n",
       "      <td>2009</td>\n",
       "      <td>34078.0</td>\n",
       "    </tr>\n",
       "    <tr>\n",
       "      <th>75</th>\n",
       "      <td>potato</td>\n",
       "      <td>2010</td>\n",
       "      <td>34107.0</td>\n",
       "    </tr>\n",
       "    <tr>\n",
       "      <th>63</th>\n",
       "      <td>potato</td>\n",
       "      <td>2011</td>\n",
       "      <td>34407.0</td>\n",
       "    </tr>\n",
       "    <tr>\n",
       "      <th>51</th>\n",
       "      <td>potato</td>\n",
       "      <td>2012</td>\n",
       "      <td>31760.0</td>\n",
       "    </tr>\n",
       "    <tr>\n",
       "      <th>39</th>\n",
       "      <td>potato</td>\n",
       "      <td>2013</td>\n",
       "      <td>32978.0</td>\n",
       "    </tr>\n",
       "    <tr>\n",
       "      <th>27</th>\n",
       "      <td>potato</td>\n",
       "      <td>2014</td>\n",
       "      <td>33282.0</td>\n",
       "    </tr>\n",
       "    <tr>\n",
       "      <th>15</th>\n",
       "      <td>potato</td>\n",
       "      <td>2015</td>\n",
       "      <td>33437.0</td>\n",
       "    </tr>\n",
       "    <tr>\n",
       "      <th>3</th>\n",
       "      <td>potato</td>\n",
       "      <td>2016</td>\n",
       "      <td>33922.0</td>\n",
       "    </tr>\n",
       "  </tbody>\n",
       "</table>\n",
       "</div>"
      ],
      "text/plain": [
       "     index  Date    Value\n",
       "87  potato  2009  34078.0\n",
       "75  potato  2010  34107.0\n",
       "63  potato  2011  34407.0\n",
       "51  potato  2012  31760.0\n",
       "39  potato  2013  32978.0\n",
       "27  potato  2014  33282.0\n",
       "15  potato  2015  33437.0\n",
       "3   potato  2016  33922.0"
      ]
     },
     "execution_count": 127,
     "metadata": {},
     "output_type": "execute_result"
    }
   ],
   "source": [
    "melteddf[melteddf['index']==\"potato\"]"
   ]
  },
  {
   "cell_type": "code",
   "execution_count": 113,
   "metadata": {
    "collapsed": false,
    "deletable": true,
    "editable": true
   },
   "outputs": [],
   "source": [
    "df16 = get_backward_join_of_parcels(2016,2009,True)\n",
    "\n",
    "# df14 = get_backward_join_of_parcels(2014,2009,True)\n",
    "\n",
    "    "
   ]
  },
  {
   "cell_type": "code",
   "execution_count": 138,
   "metadata": {
    "collapsed": false,
    "deletable": true,
    "editable": true
   },
   "outputs": [
    {
     "data": {
      "text/plain": [
       "<matplotlib.axes._subplots.AxesSubplot at 0x11de303d0>"
      ]
     },
     "execution_count": 138,
     "metadata": {},
     "output_type": "execute_result"
    },
    {
     "data": {
      "image/png": "[encoded data removed]",
      "text/plain": [
       "<matplotlib.figure.Figure at 0x11a3a8ad0>"
      ]
     },
     "metadata": {},
     "output_type": "display_data"
    }
   ],
   "source": [
    "df16.drop('fk',axis=1,inplace=True)\n",
    "df16.c2015.value_counts().plot(kind='barh')"
   ]
  },
  {
   "cell_type": "code",
   "execution_count": 139,
   "metadata": {
    "collapsed": false,
    "deletable": true,
    "editable": true
   },
   "outputs": [
    {
     "data": {
      "text/plain": [
       "soil           71\n",
       "cell_id         0\n",
       "gid             0\n",
       "c2016           0\n",
       "c2015       75985\n",
       "c2014      135702\n",
       "c2013      178223\n",
       "c2012      203009\n",
       "c2011      229724\n",
       "c2010      252030\n",
       "c2009      278715\n",
       "dtype: int64"
      ]
     },
     "execution_count": 139,
     "metadata": {},
     "output_type": "execute_result"
    }
   ],
   "source": [
    "df16.isnull().sum()"
   ]
  },
  {
   "cell_type": "code",
   "execution_count": 207,
   "metadata": {
    "collapsed": false,
    "deletable": true,
    "editable": true,
    "scrolled": true
   },
   "outputs": [
    {
     "name": "stdout",
     "output_type": "stream",
     "text": [
      "Percent of parcels changed from last year 9.73%\n"
     ]
    }
   ],
   "source": [
    "print \"Percent of parcels changed from last year {0:.2f}%\".format(refDf.c2015.isnull().sum() *100.0/ len(refDf))"
   ]
  },
  {
   "cell_type": "code",
   "execution_count": 153,
   "metadata": {
    "collapsed": false,
    "deletable": true,
    "editable": true
   },
   "outputs": [],
   "source": [
    "nna_ref = df16.dropna() \n",
    "potatos = nna_ref[nna_ref.c2016.apply(lambda x: True if \"potato\" in x.lower() else False)]\n",
    "\n",
    "\n"
   ]
  },
  {
   "cell_type": "code",
   "execution_count": 144,
   "metadata": {
    "collapsed": false,
    "deletable": true,
    "editable": true
   },
   "outputs": [
    {
     "data": {
      "text/plain": [
       "Zand              9416\n",
       "Lichte zavel      3503\n",
       "Zware zavel       2444\n",
       "Lichte klei       1346\n",
       "Veen               680\n",
       "Moerig op zand     507\n",
       "Leem               420\n",
       "Zware klei         251\n",
       "Bebouwing, enz      69\n",
       "Water                7\n",
       "Name: soil, dtype: int64"
      ]
     },
     "execution_count": 144,
     "metadata": {},
     "output_type": "execute_result"
    }
   ],
   "source": [
    "potatos.soil.value_counts()"
   ]
  },
  {
   "cell_type": "markdown",
   "metadata": {
    "deletable": true,
    "editable": true
   },
   "source": [
    "#ToDO check those on water  "
   ]
  },
  {
   "cell_type": "code",
   "execution_count": 156,
   "metadata": {
    "collapsed": false
   },
   "outputs": [],
   "source": [
    "potatos = potatos.applymap(lambda x: 1 if x==\"potato\" else 0)"
   ]
  },
  {
   "cell_type": "code",
   "execution_count": 159,
   "metadata": {
    "collapsed": false,
    "scrolled": true
   },
   "outputs": [
    {
     "data": {
      "text/plain": [
       "2    6333\n",
       "3    5259\n",
       "1    3753\n",
       "4    2984\n",
       "5     282\n",
       "6      26\n",
       "8       4\n",
       "7       2\n",
       "dtype: int64"
      ]
     },
     "execution_count": 159,
     "metadata": {},
     "output_type": "execute_result"
    }
   ],
   "source": [
    "potatos.sum(axis=1).value_counts()"
   ]
  },
  {
   "cell_type": "code",
   "execution_count": 226,
   "metadata": {
    "collapsed": false,
    "deletable": true,
    "editable": true
   },
   "outputs": [
    {
     "data": {
      "text/plain": [
       "MultiIndex(levels=[[u'Bebouwing, enz', u'Leem', u'Lichte klei', u'Lichte zavel', u'Moerig op zand', u'Veen', u'Water', u'Zand', u'Zware klei', u'Zware zavel'], [u'Aardappelen, consumptie', u'Aardappelen, poot NAK', u'Aardappelen, zetmeel', u'Bieten, suiker-', u'Grasland, blijvend', u'Grasland, natuurlijk. Areaal met een natuurbeheertype dat overwegend voor landbouwactiviteiten-GLB wordt gebruikt', u'Grasland, natuurlijk. Hoofdfunctie landbouw.', u'Grasland, natuurlijk. Hoofdfunctie natuur.', u'Grasland, tijdelijk', u'Maïs, snij-', u'Tarwe, winter-']],\n",
       "           labels=[[0, 0, 0, 0, 0, 1, 1, 1, 1, 1, 2, 2, 2, 2, 2, 3, 3, 3, 3, 3, 4, 4, 4, 4, 4, 5, 5, 5, 5, 5, 6, 6, 6, 6, 6, 7, 7, 7, 7, 7, 8, 8, 8, 8, 8, 9, 9, 9, 9, 9], [4, 8, 6, 9, 7, 4, 9, 10, 8, 3, 4, 8, 10, 9, 0, 4, 8, 9, 10, 1, 4, 8, 9, 6, 2, 4, 6, 8, 5, 9, 4, 6, 5, 7, 8, 4, 9, 8, 0, 2, 4, 8, 9, 10, 6, 4, 8, 9, 10, 0]],\n",
       "           names=[u'soil', u'c2016'])"
      ]
     },
     "execution_count": 226,
     "metadata": {},
     "output_type": "execute_result"
    }
   ],
   "source": [
    "df_agg  = nna_ref.groupby(['soil','c2016']).agg({'gid':'count'})\n",
    "g = df_agg['gid'].groupby(level=0, group_keys=False)\n",
    "res = g.nlargest(5)\n",
    "# res.plot(kind='barh',figsize=(5,10))\n",
    "res.index\n",
    "#ToDo add subplots based on soil type"
   ]
  },
  {
   "cell_type": "markdown",
   "metadata": {
    "deletable": true,
    "editable": true
   },
   "source": [
    "### Prediction"
   ]
  },
  {
   "cell_type": "code",
   "execution_count": 292,
   "metadata": {
    "collapsed": false,
    "deletable": true,
    "editable": true
   },
   "outputs": [],
   "source": [
    "## TEST ## \n",
    "#rename df columns\n",
    "\n",
    "# d = {}\n",
    "# cols = refDf.ix[:1,\"c2016\":].columns.values\n",
    "# for i in range(len (cols[1:])+1):\n",
    "#     d[cols[i]]= str(i)\n",
    "    \n",
    "# d[cols[0]]= \"y\"\n",
    "# tdf = refDf.copy()\n",
    "# tdf.rename(columns=d)\n",
    "\n",
    "\n",
    "\n",
    "# rename columns dic\n",
    "# d = {}\n",
    "# for di in range (1,5):\n",
    "#     d[str(di)] = []\n",
    "# d['y']= []\n",
    "# mldf = pd.DataFrame(d)\n",
    "# mldf"
   ]
  },
  {
   "cell_type": "code",
   "execution_count": 55,
   "metadata": {
    "collapsed": false,
    "deletable": true,
    "editable": true
   },
   "outputs": [
    {
     "name": "stdout",
     "output_type": "stream",
     "text": [
      "adding target  2015\n",
      "adding target  2016\n"
     ]
    }
   ],
   "source": [
    "# USAGE: pd.concat([df10, append_nils_for_previous_years(2010,len(df10))], axis=1)\n",
    "\n",
    "def append_nils_for_previous_years(year, length,window=4): \n",
    "    nullDF = pd.DataFrame()\n",
    "\n",
    "    for y in range (2008,year-window, -1):\n",
    "        nullDF[(\"c\"+str(y))] = [np.NaN]*length\n",
    "        \n",
    "        \n",
    "    return nullDF    \n",
    "\n",
    "\n",
    "def create_dataset(start,end,window=4, prune_grass=False): #min 2010, max 2016\n",
    "#     y = []\n",
    "#     X = []\n",
    "\n",
    "    #create base dataframe and append results of each loop\n",
    "    #we rename columns to 1:window so that columns across varying windows can be concatenated\n",
    "    d = {}\n",
    "    for di in range (1,window+1):\n",
    "        d[str(di)] = []\n",
    "    d['y']= []\n",
    "    mldf = pd.DataFrame(d)\n",
    "    \n",
    "    \n",
    "    for year in range(start,end+1):\n",
    "        join_df = get_backward_join_of_parcels(year,max(year-window,2009),True)\n",
    "       \n",
    "        # one way is to pad from 2003 to 2008 with zeros. \n",
    "        join_df = pd.concat([join_df, append_nils_for_previous_years(year,len(join_df),window)], axis=1)\n",
    "#         print 'after null', join_df.head(1)\n",
    "        print \"adding target \", year \n",
    "        join_df = join_df[~join_df[(\"c\"+str(year-1))].isnull()] # prediction target is join of this year's data with that of next year \n",
    "#         X.extend(join_df.ix[:,(\"c\"+str(year-1)):].values)\n",
    "#         y.extend(join_df.ix[:,(\"c\"+str(year))].values)\n",
    "        \n",
    "        #rename columns\n",
    "        \n",
    "        d = {}\n",
    "        cols = join_df.ix[:1,(\"c\"+str(year)):].columns.values\n",
    "        for i in range(len (cols[1:])+1):\n",
    "            d[cols[i]]= str(i)\n",
    "\n",
    "        d[cols[0]]= \"y\"\n",
    "        join_df.rename(columns=d,inplace=True)        \n",
    "        join_df.drop(['gid','fk'],axis=1,inplace=True)\n",
    "        \n",
    "        #not working\n",
    "#         if prune_grass: #remove all parcels that have had value 'grass' across ALL the years\n",
    "#             join_df = join_df[join_df.apply(lambda row: False if \\\n",
    "#                                             (np.unique(row.values[0:window])==['grass'])[0] \\\n",
    "#                                             else True,axis=1)]\n",
    "\n",
    "        #append to existing dataset\n",
    "        mldf = pd.concat([mldf,join_df])\n",
    "        \n",
    "\n",
    "    return mldf\n",
    "\n",
    "t = create_dataset(2015,2016,6)      \n"
   ]
  },
  {
   "cell_type": "code",
   "execution_count": 44,
   "metadata": {
    "collapsed": false,
    "deletable": true,
    "editable": true
   },
   "outputs": [
    {
     "name": "stderr",
     "output_type": "stream",
     "text": [
      "/Users/aoliya/anaconda/envs/test_fiona5/lib/python2.7/site-packages/numpy/lib/arraysetops.py:200: FutureWarning: numpy not_equal will not check object identity in the future. The comparison did not return the same result as suggested by the identity (`is`)) and will change.\n",
      "  flag = np.concatenate(([True], aux[1:] != aux[:-1]))\n"
     ]
    }
   ],
   "source": [
    "\n",
    "\n",
    "tprime = t[t.apply(lambda row: False if (np.unique(row.values[0:5])==['grass'])[0] else True,axis=1)]\n",
    "\n"
   ]
  },
  {
   "cell_type": "code",
   "execution_count": 53,
   "metadata": {
    "collapsed": false,
    "deletable": true,
    "editable": true,
    "scrolled": true
   },
   "outputs": [
    {
     "data": {
      "text/plain": [
       "1740067"
      ]
     },
     "execution_count": 53,
     "metadata": {},
     "output_type": "execute_result"
    }
   ],
   "source": [
    "len(tprime)"
   ]
  },
  {
   "cell_type": "code",
   "execution_count": 54,
   "metadata": {
    "collapsed": false,
    "deletable": true,
    "editable": true
   },
   "outputs": [
    {
     "data": {
      "text/plain": [
       "2788383"
      ]
     },
     "execution_count": 54,
     "metadata": {},
     "output_type": "execute_result"
    }
   ],
   "source": [
    "len(t)"
   ]
  },
  {
   "cell_type": "code",
   "execution_count": 49,
   "metadata": {
    "collapsed": false,
    "deletable": true,
    "editable": true
   },
   "outputs": [],
   "source": [
    "from sklearn.ensemble import RandomForestClassifier\n",
    "from sklearn.metrics import classification_report\n",
    "from sklearn import preprocessing \n",
    "\n",
    "def train_validate_predict(df,weights=None):\n",
    "    \n",
    "#   it seems decision tree/random forest can still work ok with integers   \n",
    "#     le = preprocessing.LabelEncoder()\n",
    "#     le.fit(np.unique(df.values.reshapre(1,-1)))\n",
    "#     df = df.apply(le.transform, axis=1)\n",
    "#     df = pd.get_dummies(df,dummy_na=True)\n",
    "    \n",
    "    df = df.sample(frac=1) #randomize    \n",
    "    traindf = df.iloc[0:int(0.7*len(df))]\n",
    "    testdf = df.iloc[int(0.7*len(df)):]\n",
    "\n",
    "    X_train, X_valid, y_train, y_valid = train_test_split(traindf.ix[:,0:len(df.columns)-1],\\\n",
    "                                                          traindf.ix[:,len(df.columns)-1],\\\n",
    "                                                          test_size=0.33, random_state=19,\\\n",
    "                                                          stratify=traindf.ix[:,len(df.columns)-1])\n",
    "\n",
    "\n",
    "    X_test = testdf.ix[:,0:len(df.columns)-1]\n",
    "    y_test = testdf.ix[:,len(df.columns)-1]\n",
    "\n",
    "    clf = RandomForestClassifier(n_estimators=100,n_jobs=-1,class_weight=weights, random_state=557) #set class weight for potatos \n",
    "    clf.fit(X_train,y_train)\n",
    "\n",
    "    print \"Results on validation set:\\n\"\n",
    "    print(classification_report(y_valid, clf.predict(X_valid)))\n",
    "\n",
    "    # print \"And results on test set:\\n\"\n",
    "    # print(classification_report(X_test,y_test ))\n",
    "\n",
    "    "
   ]
  },
  {
   "cell_type": "code",
   "execution_count": 233,
   "metadata": {
    "collapsed": false,
    "deletable": true,
    "editable": true
   },
   "outputs": [
    {
     "name": "stdout",
     "output_type": "stream",
     "text": [
      "['beans' 'corn' 'flower' 'grain' 'grass' 'onion' 'others' 'potato' 'seed'\n",
      " 'tree' 'veggies' 'waste']\n"
     ]
    }
   ],
   "source": [
    "from sklearn import preprocessing \n",
    "\n",
    "t_simple = t.drop([\"cell_id\",\"soil\"],axis=1)\n",
    "t_simple.fillna(\"others\",inplace=True)\n",
    "\n",
    "le = preprocessing.LabelEncoder()\n",
    "le.fit(np.unique(t_simple.values.reshape(1,-1)))\n",
    "t_simple = t_simple.apply(le.transform)\n",
    "t_simple.reset_index().drop('index',axis=1,inplace=True)\n",
    "\n",
    "print le.classes_"
   ]
  },
  {
   "cell_type": "code",
   "execution_count": 235,
   "metadata": {
    "collapsed": false,
    "deletable": true,
    "editable": true
   },
   "outputs": [
    {
     "name": "stdout",
     "output_type": "stream",
     "text": [
      "Results on validation set:\n",
      "\n",
      "             precision    recall  f1-score   support\n",
      "\n",
      "          0       0.01      0.21      0.03       979\n",
      "          1       0.75      0.69      0.72     80570\n",
      "          2       0.46      0.44      0.45     13131\n",
      "          3       0.53      0.49      0.51     34225\n",
      "          4       0.97      0.94      0.95    426487\n",
      "          5       0.45      0.37      0.41     22415\n",
      "          6       0.02      0.31      0.03       423\n",
      "          7       0.41      0.46      0.44     27310\n",
      "          8       0.35      0.50      0.41      9304\n",
      "          9       0.72      0.78      0.75     11052\n",
      "         10       0.31      0.31      0.31      5423\n",
      "         11       0.84      0.80      0.82     12748\n",
      "\n",
      "avg / total       0.84      0.81      0.83    644067\n",
      "\n"
     ]
    }
   ],
   "source": [
    "train_validate_predict(t_simple,\"balanced\")"
   ]
  },
  {
   "cell_type": "code",
   "execution_count": 112,
   "metadata": {
    "collapsed": false,
    "deletable": true,
    "editable": true
   },
   "outputs": [
    {
     "name": "stdout",
     "output_type": "stream",
     "text": [
      "Results on validation set:\n",
      "\n",
      "             precision    recall  f1-score   support\n",
      "\n",
      "          0       0.21      0.01      0.02       705\n",
      "          1       0.38      0.05      0.08       174\n",
      "          2       0.00      0.00      0.00       474\n",
      "          3       0.69      0.80      0.74     61692\n",
      "          4       0.68      0.52      0.59      6571\n",
      "          5       0.49      0.62      0.55     25989\n",
      "          6       0.96      0.96      0.96    316314\n",
      "          8       0.51      0.37      0.43     17549\n",
      "          9       0.57      0.38      0.45     15814\n",
      "         10       0.54      0.40      0.46     20231\n",
      "         11       0.36      0.21      0.26      1938\n",
      "         12       0.61      0.89      0.73      5575\n",
      "         13       0.85      0.75      0.79      8258\n",
      "\n",
      "avg / total       0.84      0.84      0.84    481284\n",
      "\n"
     ]
    }
   ],
   "source": []
  },
  {
   "cell_type": "markdown",
   "metadata": {
    "deletable": true,
    "editable": true
   },
   "source": [
    "#### with soil"
   ]
  },
  {
   "cell_type": "code",
   "execution_count": 148,
   "metadata": {
    "collapsed": false,
    "deletable": true,
    "editable": true
   },
   "outputs": [],
   "source": [
    "tsoil = t.drop('cell_id',axis=1)\n",
    "tsoil = tsoil.fillna('others')\n",
    "ls = preprocessing.LabelEncoder()\n",
    "ls.fit(np.unique(tsoil.values.reshape(1,-1)))\n",
    "tsoil = tsoil.apply(ls.transform)\n",
    "tsoil.reset_index().drop('index',axis=1,inplace=True)\n",
    "\n",
    "print ls.classes_"
   ]
  },
  {
   "cell_type": "code",
   "execution_count": 152,
   "metadata": {
    "collapsed": false,
    "deletable": true,
    "editable": true
   },
   "outputs": [
    {
     "name": "stdout",
     "output_type": "stream",
     "text": [
      "Results on validation set:\n",
      "\n",
      "             precision    recall  f1-score   support\n",
      "\n",
      "         12       0.11      0.01      0.02       666\n",
      "         13       0.29      0.05      0.08       177\n",
      "         14       0.69      0.80      0.74     61751\n",
      "         15       0.66      0.50      0.57      6554\n",
      "         16       0.52      0.61      0.56     25955\n",
      "         17       0.96      0.96      0.96    316234\n",
      "         18       0.49      0.39      0.43     17517\n",
      "         19       0.58      0.37      0.45     16370\n",
      "         20       0.54      0.44      0.48     20324\n",
      "         21       0.35      0.21      0.26      1954\n",
      "         22       0.60      0.88      0.71      5528\n",
      "         23       0.84      0.75      0.79      8254\n",
      "\n",
      "avg / total       0.84      0.84      0.84    481284\n",
      "\n"
     ]
    }
   ],
   "source": [
    "train_validate_predict(tsoil)"
   ]
  },
  {
   "cell_type": "code",
   "execution_count": 95,
   "metadata": {
    "collapsed": false,
    "deletable": true,
    "editable": true
   },
   "outputs": [],
   "source": [
    "tzegond = t[t.apply(lambda row: True if ('potato' in row.values[0:4])  else False,axis=1)]\n"
   ]
  },
  {
   "cell_type": "code",
   "execution_count": 46,
   "metadata": {
    "collapsed": false,
    "deletable": true,
    "editable": true,
    "scrolled": true
   },
   "outputs": [],
   "source": [
    "from sklearn import preprocessing \n",
    "\n",
    "\n",
    "#with cell id \n",
    "nona = tprime[~tprime.soil.isnull()]\n",
    "fishml = nona.drop('cell_id',axis=1)\n",
    "fishml = fishml.fillna('others')\n",
    "\n",
    "ls = preprocessing.LabelEncoder()\n",
    "ls.fit(np.unique(fishml.values.reshape(1,-1)))\n",
    "fishml = fishml.apply(ls.transform)\n",
    "\n",
    "fishml.insert(0,\"cell_id\",nona.cell_id)\n",
    "fishml.reset_index().drop('index',axis=1,inplace=True)\n",
    "\n",
    "\n",
    "# train_validate_predict(fishml)"
   ]
  },
  {
   "cell_type": "code",
   "execution_count": 98,
   "metadata": {
    "collapsed": false,
    "deletable": true,
    "editable": true
   },
   "outputs": [
    {
     "data": {
      "text/html": [
       "<div>\n",
       "<table border=\"1\" class=\"dataframe\">\n",
       "  <thead>\n",
       "    <tr style=\"text-align: right;\">\n",
       "      <th></th>\n",
       "      <th>cell_id</th>\n",
       "      <th>1</th>\n",
       "      <th>2</th>\n",
       "      <th>3</th>\n",
       "      <th>4</th>\n",
       "      <th>soil</th>\n",
       "      <th>y</th>\n",
       "    </tr>\n",
       "  </thead>\n",
       "  <tbody>\n",
       "    <tr>\n",
       "      <th>51</th>\n",
       "      <td>530.0</td>\n",
       "      <td>18</td>\n",
       "      <td>13</td>\n",
       "      <td>17</td>\n",
       "      <td>15</td>\n",
       "      <td>2</td>\n",
       "      <td>14</td>\n",
       "    </tr>\n",
       "    <tr>\n",
       "      <th>55</th>\n",
       "      <td>772.0</td>\n",
       "      <td>17</td>\n",
       "      <td>13</td>\n",
       "      <td>13</td>\n",
       "      <td>17</td>\n",
       "      <td>9</td>\n",
       "      <td>14</td>\n",
       "    </tr>\n",
       "    <tr>\n",
       "      <th>102</th>\n",
       "      <td>583.0</td>\n",
       "      <td>17</td>\n",
       "      <td>12</td>\n",
       "      <td>18</td>\n",
       "      <td>15</td>\n",
       "      <td>3</td>\n",
       "      <td>14</td>\n",
       "    </tr>\n",
       "    <tr>\n",
       "      <th>110</th>\n",
       "      <td>686.0</td>\n",
       "      <td>14</td>\n",
       "      <td>17</td>\n",
       "      <td>14</td>\n",
       "      <td>14</td>\n",
       "      <td>2</td>\n",
       "      <td>14</td>\n",
       "    </tr>\n",
       "    <tr>\n",
       "      <th>112</th>\n",
       "      <td>686.0</td>\n",
       "      <td>14</td>\n",
       "      <td>14</td>\n",
       "      <td>17</td>\n",
       "      <td>14</td>\n",
       "      <td>7</td>\n",
       "      <td>14</td>\n",
       "    </tr>\n",
       "    <tr>\n",
       "      <th>137</th>\n",
       "      <td>611.0</td>\n",
       "      <td>17</td>\n",
       "      <td>18</td>\n",
       "      <td>15</td>\n",
       "      <td>17</td>\n",
       "      <td>4</td>\n",
       "      <td>14</td>\n",
       "    </tr>\n",
       "    <tr>\n",
       "      <th>179</th>\n",
       "      <td>618.0</td>\n",
       "      <td>14</td>\n",
       "      <td>14</td>\n",
       "      <td>14</td>\n",
       "      <td>17</td>\n",
       "      <td>7</td>\n",
       "      <td>14</td>\n",
       "    </tr>\n",
       "    <tr>\n",
       "      <th>182</th>\n",
       "      <td>618.0</td>\n",
       "      <td>11</td>\n",
       "      <td>17</td>\n",
       "      <td>11</td>\n",
       "      <td>11</td>\n",
       "      <td>7</td>\n",
       "      <td>14</td>\n",
       "    </tr>\n",
       "    <tr>\n",
       "      <th>184</th>\n",
       "      <td>618.0</td>\n",
       "      <td>11</td>\n",
       "      <td>17</td>\n",
       "      <td>11</td>\n",
       "      <td>11</td>\n",
       "      <td>7</td>\n",
       "      <td>14</td>\n",
       "    </tr>\n",
       "    <tr>\n",
       "      <th>375</th>\n",
       "      <td>618.0</td>\n",
       "      <td>14</td>\n",
       "      <td>13</td>\n",
       "      <td>17</td>\n",
       "      <td>14</td>\n",
       "      <td>7</td>\n",
       "      <td>14</td>\n",
       "    </tr>\n",
       "    <tr>\n",
       "      <th>399</th>\n",
       "      <td>563.0</td>\n",
       "      <td>14</td>\n",
       "      <td>17</td>\n",
       "      <td>12</td>\n",
       "      <td>11</td>\n",
       "      <td>7</td>\n",
       "      <td>14</td>\n",
       "    </tr>\n",
       "    <tr>\n",
       "      <th>401</th>\n",
       "      <td>374.0</td>\n",
       "      <td>14</td>\n",
       "      <td>17</td>\n",
       "      <td>11</td>\n",
       "      <td>14</td>\n",
       "      <td>7</td>\n",
       "      <td>14</td>\n",
       "    </tr>\n",
       "    <tr>\n",
       "      <th>448</th>\n",
       "      <td>588.0</td>\n",
       "      <td>14</td>\n",
       "      <td>14</td>\n",
       "      <td>11</td>\n",
       "      <td>17</td>\n",
       "      <td>7</td>\n",
       "      <td>14</td>\n",
       "    </tr>\n",
       "    <tr>\n",
       "      <th>486</th>\n",
       "      <td>618.0</td>\n",
       "      <td>14</td>\n",
       "      <td>17</td>\n",
       "      <td>17</td>\n",
       "      <td>14</td>\n",
       "      <td>7</td>\n",
       "      <td>14</td>\n",
       "    </tr>\n",
       "    <tr>\n",
       "      <th>487</th>\n",
       "      <td>618.0</td>\n",
       "      <td>17</td>\n",
       "      <td>14</td>\n",
       "      <td>14</td>\n",
       "      <td>14</td>\n",
       "      <td>7</td>\n",
       "      <td>14</td>\n",
       "    </tr>\n",
       "    <tr>\n",
       "      <th>491</th>\n",
       "      <td>230.0</td>\n",
       "      <td>14</td>\n",
       "      <td>17</td>\n",
       "      <td>11</td>\n",
       "      <td>11</td>\n",
       "      <td>7</td>\n",
       "      <td>14</td>\n",
       "    </tr>\n",
       "    <tr>\n",
       "      <th>501</th>\n",
       "      <td>637.0</td>\n",
       "      <td>14</td>\n",
       "      <td>14</td>\n",
       "      <td>14</td>\n",
       "      <td>17</td>\n",
       "      <td>7</td>\n",
       "      <td>14</td>\n",
       "    </tr>\n",
       "    <tr>\n",
       "      <th>502</th>\n",
       "      <td>637.0</td>\n",
       "      <td>14</td>\n",
       "      <td>14</td>\n",
       "      <td>14</td>\n",
       "      <td>17</td>\n",
       "      <td>7</td>\n",
       "      <td>14</td>\n",
       "    </tr>\n",
       "    <tr>\n",
       "      <th>521</th>\n",
       "      <td>208.0</td>\n",
       "      <td>14</td>\n",
       "      <td>17</td>\n",
       "      <td>12</td>\n",
       "      <td>10</td>\n",
       "      <td>7</td>\n",
       "      <td>14</td>\n",
       "    </tr>\n",
       "    <tr>\n",
       "      <th>557</th>\n",
       "      <td>746.0</td>\n",
       "      <td>14</td>\n",
       "      <td>11</td>\n",
       "      <td>17</td>\n",
       "      <td>13</td>\n",
       "      <td>9</td>\n",
       "      <td>14</td>\n",
       "    </tr>\n",
       "    <tr>\n",
       "      <th>709</th>\n",
       "      <td>228.0</td>\n",
       "      <td>14</td>\n",
       "      <td>17</td>\n",
       "      <td>11</td>\n",
       "      <td>16</td>\n",
       "      <td>7</td>\n",
       "      <td>14</td>\n",
       "    </tr>\n",
       "    <tr>\n",
       "      <th>777</th>\n",
       "      <td>613.0</td>\n",
       "      <td>14</td>\n",
       "      <td>17</td>\n",
       "      <td>14</td>\n",
       "      <td>14</td>\n",
       "      <td>5</td>\n",
       "      <td>14</td>\n",
       "    </tr>\n",
       "    <tr>\n",
       "      <th>910</th>\n",
       "      <td>508.0</td>\n",
       "      <td>14</td>\n",
       "      <td>11</td>\n",
       "      <td>11</td>\n",
       "      <td>17</td>\n",
       "      <td>7</td>\n",
       "      <td>14</td>\n",
       "    </tr>\n",
       "    <tr>\n",
       "      <th>930</th>\n",
       "      <td>801.0</td>\n",
       "      <td>17</td>\n",
       "      <td>13</td>\n",
       "      <td>13</td>\n",
       "      <td>17</td>\n",
       "      <td>3</td>\n",
       "      <td>14</td>\n",
       "    </tr>\n",
       "    <tr>\n",
       "      <th>1013</th>\n",
       "      <td>202.0</td>\n",
       "      <td>17</td>\n",
       "      <td>11</td>\n",
       "      <td>16</td>\n",
       "      <td>16</td>\n",
       "      <td>7</td>\n",
       "      <td>14</td>\n",
       "    </tr>\n",
       "    <tr>\n",
       "      <th>1020</th>\n",
       "      <td>509.0</td>\n",
       "      <td>14</td>\n",
       "      <td>17</td>\n",
       "      <td>11</td>\n",
       "      <td>11</td>\n",
       "      <td>5</td>\n",
       "      <td>14</td>\n",
       "    </tr>\n",
       "    <tr>\n",
       "      <th>1077</th>\n",
       "      <td>563.0</td>\n",
       "      <td>14</td>\n",
       "      <td>14</td>\n",
       "      <td>14</td>\n",
       "      <td>17</td>\n",
       "      <td>3</td>\n",
       "      <td>14</td>\n",
       "    </tr>\n",
       "    <tr>\n",
       "      <th>1106</th>\n",
       "      <td>203.0</td>\n",
       "      <td>11</td>\n",
       "      <td>11</td>\n",
       "      <td>17</td>\n",
       "      <td>15</td>\n",
       "      <td>7</td>\n",
       "      <td>14</td>\n",
       "    </tr>\n",
       "    <tr>\n",
       "      <th>1178</th>\n",
       "      <td>801.0</td>\n",
       "      <td>14</td>\n",
       "      <td>17</td>\n",
       "      <td>13</td>\n",
       "      <td>15</td>\n",
       "      <td>3</td>\n",
       "      <td>14</td>\n",
       "    </tr>\n",
       "    <tr>\n",
       "      <th>1332</th>\n",
       "      <td>501.0</td>\n",
       "      <td>15</td>\n",
       "      <td>14</td>\n",
       "      <td>17</td>\n",
       "      <td>16</td>\n",
       "      <td>2</td>\n",
       "      <td>14</td>\n",
       "    </tr>\n",
       "    <tr>\n",
       "      <th>...</th>\n",
       "      <td>...</td>\n",
       "      <td>...</td>\n",
       "      <td>...</td>\n",
       "      <td>...</td>\n",
       "      <td>...</td>\n",
       "      <td>...</td>\n",
       "      <td>...</td>\n",
       "    </tr>\n",
       "    <tr>\n",
       "      <th>760078</th>\n",
       "      <td>502.0</td>\n",
       "      <td>18</td>\n",
       "      <td>17</td>\n",
       "      <td>15</td>\n",
       "      <td>16</td>\n",
       "      <td>9</td>\n",
       "      <td>14</td>\n",
       "    </tr>\n",
       "    <tr>\n",
       "      <th>760095</th>\n",
       "      <td>228.0</td>\n",
       "      <td>17</td>\n",
       "      <td>16</td>\n",
       "      <td>16</td>\n",
       "      <td>16</td>\n",
       "      <td>7</td>\n",
       "      <td>14</td>\n",
       "    </tr>\n",
       "    <tr>\n",
       "      <th>760232</th>\n",
       "      <td>195.0</td>\n",
       "      <td>16</td>\n",
       "      <td>21</td>\n",
       "      <td>21</td>\n",
       "      <td>17</td>\n",
       "      <td>2</td>\n",
       "      <td>14</td>\n",
       "    </tr>\n",
       "    <tr>\n",
       "      <th>760377</th>\n",
       "      <td>774.0</td>\n",
       "      <td>14</td>\n",
       "      <td>17</td>\n",
       "      <td>15</td>\n",
       "      <td>11</td>\n",
       "      <td>3</td>\n",
       "      <td>14</td>\n",
       "    </tr>\n",
       "    <tr>\n",
       "      <th>760555</th>\n",
       "      <td>400.0</td>\n",
       "      <td>14</td>\n",
       "      <td>11</td>\n",
       "      <td>18</td>\n",
       "      <td>17</td>\n",
       "      <td>7</td>\n",
       "      <td>14</td>\n",
       "    </tr>\n",
       "    <tr>\n",
       "      <th>760625</th>\n",
       "      <td>588.0</td>\n",
       "      <td>14</td>\n",
       "      <td>17</td>\n",
       "      <td>17</td>\n",
       "      <td>14</td>\n",
       "      <td>7</td>\n",
       "      <td>14</td>\n",
       "    </tr>\n",
       "    <tr>\n",
       "      <th>760658</th>\n",
       "      <td>330.0</td>\n",
       "      <td>14</td>\n",
       "      <td>14</td>\n",
       "      <td>17</td>\n",
       "      <td>18</td>\n",
       "      <td>3</td>\n",
       "      <td>14</td>\n",
       "    </tr>\n",
       "    <tr>\n",
       "      <th>760843</th>\n",
       "      <td>286.0</td>\n",
       "      <td>14</td>\n",
       "      <td>14</td>\n",
       "      <td>17</td>\n",
       "      <td>11</td>\n",
       "      <td>7</td>\n",
       "      <td>14</td>\n",
       "    </tr>\n",
       "    <tr>\n",
       "      <th>761066</th>\n",
       "      <td>671.0</td>\n",
       "      <td>14</td>\n",
       "      <td>14</td>\n",
       "      <td>14</td>\n",
       "      <td>17</td>\n",
       "      <td>7</td>\n",
       "      <td>14</td>\n",
       "    </tr>\n",
       "    <tr>\n",
       "      <th>761080</th>\n",
       "      <td>564.0</td>\n",
       "      <td>17</td>\n",
       "      <td>11</td>\n",
       "      <td>17</td>\n",
       "      <td>15</td>\n",
       "      <td>7</td>\n",
       "      <td>14</td>\n",
       "    </tr>\n",
       "    <tr>\n",
       "      <th>761142</th>\n",
       "      <td>780.0</td>\n",
       "      <td>17</td>\n",
       "      <td>13</td>\n",
       "      <td>11</td>\n",
       "      <td>15</td>\n",
       "      <td>9</td>\n",
       "      <td>14</td>\n",
       "    </tr>\n",
       "    <tr>\n",
       "      <th>761161</th>\n",
       "      <td>779.0</td>\n",
       "      <td>17</td>\n",
       "      <td>16</td>\n",
       "      <td>16</td>\n",
       "      <td>16</td>\n",
       "      <td>9</td>\n",
       "      <td>14</td>\n",
       "    </tr>\n",
       "    <tr>\n",
       "      <th>761202</th>\n",
       "      <td>611.0</td>\n",
       "      <td>15</td>\n",
       "      <td>17</td>\n",
       "      <td>12</td>\n",
       "      <td>13</td>\n",
       "      <td>3</td>\n",
       "      <td>14</td>\n",
       "    </tr>\n",
       "    <tr>\n",
       "      <th>761204</th>\n",
       "      <td>611.0</td>\n",
       "      <td>15</td>\n",
       "      <td>17</td>\n",
       "      <td>12</td>\n",
       "      <td>13</td>\n",
       "      <td>3</td>\n",
       "      <td>14</td>\n",
       "    </tr>\n",
       "    <tr>\n",
       "      <th>761290</th>\n",
       "      <td>632.0</td>\n",
       "      <td>17</td>\n",
       "      <td>11</td>\n",
       "      <td>11</td>\n",
       "      <td>11</td>\n",
       "      <td>9</td>\n",
       "      <td>14</td>\n",
       "    </tr>\n",
       "    <tr>\n",
       "      <th>761315</th>\n",
       "      <td>674.0</td>\n",
       "      <td>11</td>\n",
       "      <td>17</td>\n",
       "      <td>11</td>\n",
       "      <td>11</td>\n",
       "      <td>7</td>\n",
       "      <td>14</td>\n",
       "    </tr>\n",
       "    <tr>\n",
       "      <th>761394</th>\n",
       "      <td>225.0</td>\n",
       "      <td>14</td>\n",
       "      <td>14</td>\n",
       "      <td>17</td>\n",
       "      <td>11</td>\n",
       "      <td>7</td>\n",
       "      <td>14</td>\n",
       "    </tr>\n",
       "    <tr>\n",
       "      <th>761495</th>\n",
       "      <td>638.0</td>\n",
       "      <td>17</td>\n",
       "      <td>12</td>\n",
       "      <td>16</td>\n",
       "      <td>16</td>\n",
       "      <td>4</td>\n",
       "      <td>14</td>\n",
       "    </tr>\n",
       "    <tr>\n",
       "      <th>761526</th>\n",
       "      <td>234.0</td>\n",
       "      <td>17</td>\n",
       "      <td>18</td>\n",
       "      <td>12</td>\n",
       "      <td>16</td>\n",
       "      <td>7</td>\n",
       "      <td>14</td>\n",
       "    </tr>\n",
       "    <tr>\n",
       "      <th>761676</th>\n",
       "      <td>671.0</td>\n",
       "      <td>14</td>\n",
       "      <td>17</td>\n",
       "      <td>11</td>\n",
       "      <td>11</td>\n",
       "      <td>7</td>\n",
       "      <td>14</td>\n",
       "    </tr>\n",
       "    <tr>\n",
       "      <th>761862</th>\n",
       "      <td>610.0</td>\n",
       "      <td>17</td>\n",
       "      <td>16</td>\n",
       "      <td>16</td>\n",
       "      <td>16</td>\n",
       "      <td>3</td>\n",
       "      <td>14</td>\n",
       "    </tr>\n",
       "    <tr>\n",
       "      <th>762067</th>\n",
       "      <td>288.0</td>\n",
       "      <td>14</td>\n",
       "      <td>14</td>\n",
       "      <td>11</td>\n",
       "      <td>17</td>\n",
       "      <td>7</td>\n",
       "      <td>14</td>\n",
       "    </tr>\n",
       "    <tr>\n",
       "      <th>762221</th>\n",
       "      <td>585.0</td>\n",
       "      <td>14</td>\n",
       "      <td>11</td>\n",
       "      <td>11</td>\n",
       "      <td>17</td>\n",
       "      <td>7</td>\n",
       "      <td>14</td>\n",
       "    </tr>\n",
       "    <tr>\n",
       "      <th>762286</th>\n",
       "      <td>398.0</td>\n",
       "      <td>11</td>\n",
       "      <td>17</td>\n",
       "      <td>11</td>\n",
       "      <td>11</td>\n",
       "      <td>9</td>\n",
       "      <td>14</td>\n",
       "    </tr>\n",
       "    <tr>\n",
       "      <th>762348</th>\n",
       "      <td>669.0</td>\n",
       "      <td>14</td>\n",
       "      <td>14</td>\n",
       "      <td>11</td>\n",
       "      <td>17</td>\n",
       "      <td>7</td>\n",
       "      <td>14</td>\n",
       "    </tr>\n",
       "    <tr>\n",
       "      <th>762349</th>\n",
       "      <td>644.0</td>\n",
       "      <td>14</td>\n",
       "      <td>17</td>\n",
       "      <td>14</td>\n",
       "      <td>14</td>\n",
       "      <td>7</td>\n",
       "      <td>14</td>\n",
       "    </tr>\n",
       "    <tr>\n",
       "      <th>762447</th>\n",
       "      <td>674.0</td>\n",
       "      <td>17</td>\n",
       "      <td>13</td>\n",
       "      <td>16</td>\n",
       "      <td>16</td>\n",
       "      <td>7</td>\n",
       "      <td>14</td>\n",
       "    </tr>\n",
       "    <tr>\n",
       "      <th>762449</th>\n",
       "      <td>674.0</td>\n",
       "      <td>14</td>\n",
       "      <td>14</td>\n",
       "      <td>17</td>\n",
       "      <td>11</td>\n",
       "      <td>7</td>\n",
       "      <td>14</td>\n",
       "    </tr>\n",
       "    <tr>\n",
       "      <th>762450</th>\n",
       "      <td>674.0</td>\n",
       "      <td>14</td>\n",
       "      <td>14</td>\n",
       "      <td>17</td>\n",
       "      <td>16</td>\n",
       "      <td>7</td>\n",
       "      <td>14</td>\n",
       "    </tr>\n",
       "    <tr>\n",
       "      <th>762729</th>\n",
       "      <td>773.0</td>\n",
       "      <td>14</td>\n",
       "      <td>17</td>\n",
       "      <td>14</td>\n",
       "      <td>14</td>\n",
       "      <td>3</td>\n",
       "      <td>14</td>\n",
       "    </tr>\n",
       "  </tbody>\n",
       "</table>\n",
       "<p>9946 rows × 7 columns</p>\n",
       "</div>"
      ],
      "text/plain": [
       "        cell_id   1   2   3   4  soil   y\n",
       "51        530.0  18  13  17  15     2  14\n",
       "55        772.0  17  13  13  17     9  14\n",
       "102       583.0  17  12  18  15     3  14\n",
       "110       686.0  14  17  14  14     2  14\n",
       "112       686.0  14  14  17  14     7  14\n",
       "137       611.0  17  18  15  17     4  14\n",
       "179       618.0  14  14  14  17     7  14\n",
       "182       618.0  11  17  11  11     7  14\n",
       "184       618.0  11  17  11  11     7  14\n",
       "375       618.0  14  13  17  14     7  14\n",
       "399       563.0  14  17  12  11     7  14\n",
       "401       374.0  14  17  11  14     7  14\n",
       "448       588.0  14  14  11  17     7  14\n",
       "486       618.0  14  17  17  14     7  14\n",
       "487       618.0  17  14  14  14     7  14\n",
       "491       230.0  14  17  11  11     7  14\n",
       "501       637.0  14  14  14  17     7  14\n",
       "502       637.0  14  14  14  17     7  14\n",
       "521       208.0  14  17  12  10     7  14\n",
       "557       746.0  14  11  17  13     9  14\n",
       "709       228.0  14  17  11  16     7  14\n",
       "777       613.0  14  17  14  14     5  14\n",
       "910       508.0  14  11  11  17     7  14\n",
       "930       801.0  17  13  13  17     3  14\n",
       "1013      202.0  17  11  16  16     7  14\n",
       "1020      509.0  14  17  11  11     5  14\n",
       "1077      563.0  14  14  14  17     3  14\n",
       "1106      203.0  11  11  17  15     7  14\n",
       "1178      801.0  14  17  13  15     3  14\n",
       "1332      501.0  15  14  17  16     2  14\n",
       "...         ...  ..  ..  ..  ..   ...  ..\n",
       "760078    502.0  18  17  15  16     9  14\n",
       "760095    228.0  17  16  16  16     7  14\n",
       "760232    195.0  16  21  21  17     2  14\n",
       "760377    774.0  14  17  15  11     3  14\n",
       "760555    400.0  14  11  18  17     7  14\n",
       "760625    588.0  14  17  17  14     7  14\n",
       "760658    330.0  14  14  17  18     3  14\n",
       "760843    286.0  14  14  17  11     7  14\n",
       "761066    671.0  14  14  14  17     7  14\n",
       "761080    564.0  17  11  17  15     7  14\n",
       "761142    780.0  17  13  11  15     9  14\n",
       "761161    779.0  17  16  16  16     9  14\n",
       "761202    611.0  15  17  12  13     3  14\n",
       "761204    611.0  15  17  12  13     3  14\n",
       "761290    632.0  17  11  11  11     9  14\n",
       "761315    674.0  11  17  11  11     7  14\n",
       "761394    225.0  14  14  17  11     7  14\n",
       "761495    638.0  17  12  16  16     4  14\n",
       "761526    234.0  17  18  12  16     7  14\n",
       "761676    671.0  14  17  11  11     7  14\n",
       "761862    610.0  17  16  16  16     3  14\n",
       "762067    288.0  14  14  11  17     7  14\n",
       "762221    585.0  14  11  11  17     7  14\n",
       "762286    398.0  11  17  11  11     9  14\n",
       "762348    669.0  14  14  11  17     7  14\n",
       "762349    644.0  14  17  14  14     7  14\n",
       "762447    674.0  17  13  16  16     7  14\n",
       "762449    674.0  14  14  17  11     7  14\n",
       "762450    674.0  14  14  17  16     7  14\n",
       "762729    773.0  14  17  14  14     3  14\n",
       "\n",
       "[9946 rows x 7 columns]"
      ]
     },
     "execution_count": 98,
     "metadata": {},
     "output_type": "execute_result"
    }
   ],
   "source": [
    "fishml[fishml.y==14]"
   ]
  },
  {
   "cell_type": "code",
   "execution_count": null,
   "metadata": {
    "collapsed": false,
    "deletable": true,
    "editable": true
   },
   "outputs": [
    {
     "data": {
      "text/plain": [
       "<matplotlib.axes._subplots.AxesSubplot at 0x11f963c50>"
      ]
     },
     "execution_count": 131,
     "metadata": {},
     "output_type": "execute_result"
    }
   ],
   "source": [
    "fishml.plot(kind='line')"
   ]
  },
  {
   "cell_type": "code",
   "execution_count": 47,
   "metadata": {
    "collapsed": false,
    "deletable": true,
    "editable": true
   },
   "outputs": [
    {
     "name": "stdout",
     "output_type": "stream",
     "text": [
      "22 ['Bebouwing, enz' 'Leem' 'Lichte klei' 'Lichte zavel' 'Moerig op zand'\n",
      " 'Veen' 'Water' 'Zand' 'Zware klei' 'Zware zavel' 'beans' 'corn' 'flower'\n",
      " 'grain' 'grass' 'onion' 'others' 'potato' 'seed' 'tree' 'veggies' 'waste']\n"
     ]
    }
   ],
   "source": [
    "print len(ls.classes_),ls.classes_\n"
   ]
  },
  {
   "cell_type": "markdown",
   "metadata": {
    "deletable": true,
    "editable": true
   },
   "source": [
    "##### changing class weights"
   ]
  },
  {
   "cell_type": "code",
   "execution_count": 50,
   "metadata": {
    "collapsed": false,
    "deletable": true,
    "editable": true,
    "scrolled": true
   },
   "outputs": [
    {
     "name": "stdout",
     "output_type": "stream",
     "text": [
      "Results on validation set:\n",
      "\n",
      "             precision    recall  f1-score   support\n",
      "\n",
      "         10       0.12      0.06      0.08       961\n",
      "         11       0.70      0.78      0.74     76754\n",
      "         12       0.56      0.45      0.50     12575\n",
      "         13       0.53      0.57      0.55     33974\n",
      "         14       0.93      0.92      0.92    192408\n",
      "         15       0.43      0.38      0.40     21798\n",
      "         16       0.29      0.15      0.20       400\n",
      "         17       0.53      0.49      0.51     25836\n",
      "         18       0.42      0.39      0.40      9129\n",
      "         19       0.72      0.77      0.74     10824\n",
      "         20       0.44      0.32      0.37      5199\n",
      "         21       0.85      0.79      0.82     12058\n",
      "\n",
      "avg / total       0.76      0.76      0.76    401916\n",
      "\n"
     ]
    }
   ],
   "source": [
    "train_validate_predict(fishml)"
   ]
  },
  {
   "cell_type": "code",
   "execution_count": 101,
   "metadata": {
    "collapsed": false,
    "deletable": true,
    "editable": true
   },
   "outputs": [
    {
     "name": "stdout",
     "output_type": "stream",
     "text": [
      "Results on validation set:\n",
      "\n",
      "             precision    recall  f1-score   support\n",
      "\n",
      "         10       0.11      0.05      0.07       103\n",
      "         11       0.55      0.51      0.53      3666\n",
      "         12       0.27      0.17      0.21       580\n",
      "         13       0.55      0.55      0.55      4788\n",
      "         14       0.67      0.60      0.63      2276\n",
      "         15       0.37      0.32      0.34      2829\n",
      "         16       0.00      0.00      0.00        39\n",
      "         17       0.52      0.73      0.61      3860\n",
      "         18       0.30      0.24      0.27      1313\n",
      "         19       0.45      0.37      0.41        84\n",
      "         21       0.45      0.29      0.35       185\n",
      "\n",
      "avg / total       0.50      0.51      0.50     19723\n",
      "\n"
     ]
    }
   ],
   "source": [
    "\n",
    "train_validate_predict(fishml,{17:100})"
   ]
  },
  {
   "cell_type": "code",
   "execution_count": null,
   "metadata": {
    "collapsed": false,
    "deletable": true,
    "editable": true
   },
   "outputs": [],
   "source": [
    "h2o.init()\n",
    "# mlset = np.concatenate((np.array(X),np.array(y).reshape(-1,1)),axis=1)\n",
    "hdf = h2o.H2OFrame.from_python(t)#,X.drop(['geom','center',],axis=1))\n",
    "\n",
    "print hdf.tail(1)\n",
    "gbm_classifier = H2OGradientBoostingEstimator(distribution=\"multinomial\", \\\n",
    "                                              ntrees=10, max_depth=5, min_rows=2, learn_rate=0.2 , seed=577,balance_classes=True)\n",
    "\n",
    "gbm_classifier.train(x=range(0,hdf.ncol), y=hdf.ncol-1, training_frame=hdf)\n",
    "\n",
    "gbm_classifier"
   ]
  },
  {
   "cell_type": "code",
   "execution_count": 313,
   "metadata": {
    "collapsed": false,
    "deletable": true,
    "editable": true,
    "scrolled": true
   },
   "outputs": [
    {
     "name": "stdout",
     "output_type": "stream",
     "text": [
      "Model Summary: \n"
     ]
    },
    {
     "data": {
      "text/html": [
       "<div style=\"overflow:auto\"><table style=\"width:50%\"><tr><td><b></b></td>\n",
       "<td><b>number_of_trees</b></td>\n",
       "<td><b>number_of_internal_trees</b></td>\n",
       "<td><b>model_size_in_bytes</b></td>\n",
       "<td><b>min_depth</b></td>\n",
       "<td><b>max_depth</b></td>\n",
       "<td><b>mean_depth</b></td>\n",
       "<td><b>min_leaves</b></td>\n",
       "<td><b>max_leaves</b></td>\n",
       "<td><b>mean_leaves</b></td></tr>\n",
       "<tr><td></td>\n",
       "<td>5.0</td>\n",
       "<td>60.0</td>\n",
       "<td>20465.0</td>\n",
       "<td>2.0</td>\n",
       "<td>2.0</td>\n",
       "<td>2.0</td>\n",
       "<td>4.0</td>\n",
       "<td>4.0</td>\n",
       "<td>4.0</td></tr></table></div>"
      ],
      "text/plain": [
       "    number_of_trees    number_of_internal_trees    model_size_in_bytes    min_depth    max_depth    mean_depth    min_leaves    max_leaves    mean_leaves\n",
       "--  -----------------  --------------------------  ---------------------  -----------  -----------  ------------  ------------  ------------  -------------\n",
       "    5                  60                          20465                  2            2            2             4             4             4"
      ]
     },
     "metadata": {},
     "output_type": "display_data"
    },
    {
     "data": {
      "text/plain": []
     },
     "execution_count": 313,
     "metadata": {},
     "output_type": "execute_result"
    }
   ],
   "source": [
    "gbm_classifier.summary()"
   ]
  }
 ],
 "metadata": {
  "kernelspec": {
   "display_name": "Python [conda env:test_fiona5]",
   "language": "python",
   "name": "conda-env-test_fiona5-py"
  },
  "language_info": {
   "codemirror_mode": {
    "name": "ipython",
    "version": 2
   },
   "file_extension": ".py",
   "mimetype": "text/x-python",
   "name": "python",
   "nbconvert_exporter": "python",
   "pygments_lexer": "ipython2",
   "version": "2.7.12"
  }
 },
 "nbformat": 4,
 "nbformat_minor": 2
}
